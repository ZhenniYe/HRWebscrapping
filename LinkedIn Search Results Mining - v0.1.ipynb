{
 "cells": [
  {
   "cell_type": "markdown",
   "metadata": {},
   "source": [
    "## Just have a try"
   ]
  },
  {
   "cell_type": "markdown",
   "metadata": {},
   "source": [
    "Edition: 0.1  \n",
    "Date: 7/11/2019  \n",
    "@author(s): Lammond Wan; Zhenni Ye"
   ]
  },
  {
   "cell_type": "code",
   "execution_count": 2,
   "metadata": {},
   "outputs": [],
   "source": [
    "# -*- coding: utf-8 -*-\n",
    "import requests\n",
    "import re\n",
    "import pandas as pd\n",
    "import matplotlib.pyplot as plt"
   ]
  },
  {
   "cell_type": "code",
   "execution_count": null,
   "metadata": {},
   "outputs": [],
   "source": [
    "def retrieve_search_results(keywords):\n",
    "    results = []\n",
    "    url = 'https://www.linkedin.com/search/results/all/?keywords=%s&origin=GLOBAL_SEARCH_HEADER' % (keywords)\n",
    "    try:\n",
    "        r = requests.get(url)\n",
    "    except ConnectionError as err:\n",
    "        print(err)\n",
    "    m = re.findall('', r.text)\n",
    "    if m:\n",
    "        quotes = quotes[::-1]\n",
    "    return  [item for item in quotes if not 'type' in item]"
   ]
  }
 ],
 "metadata": {
  "kernelspec": {
   "display_name": "Python 3",
   "language": "python",
   "name": "python3"
  },
  "language_info": {
   "codemirror_mode": {
    "name": "ipython",
    "version": 3
   },
   "file_extension": ".py",
   "mimetype": "text/x-python",
   "name": "python",
   "nbconvert_exporter": "python",
   "pygments_lexer": "ipython3",
   "version": "3.7.3"
  }
 },
 "nbformat": 4,
 "nbformat_minor": 2
}
